{
  "cells": [
    {
      "cell_type": "markdown",
      "metadata": {},
      "source": [
        "# Random Forest Price Prediction (Nicolas)\n"
      ]
    },
    {
      "cell_type": "code",
      "execution_count": 5,
      "metadata": {
        "colab": {
          "base_uri": "https://localhost:8080/"
        },
        "id": "i2V-KNTEkUKd",
        "outputId": "633f4eab-1b4c-4224-9584-94228ad5b04d"
      },
      "outputs": [],
      "source": [
        "import pandas as pd\n",
        "import numpy as np\n",
        "from sklearn.model_selection import train_test_split\n",
        "from sklearn.ensemble import RandomForestRegressor\n",
        "from sklearn.metrics import mean_squared_error, r2_score\n",
        "\n",
        "lego = pd.read_csv('lego_data_clean_translated.csv')\n",
        "\n",
        "lego = lego.drop(columns=['toy_name', 'toy_name_en']) \n",
        "lego = pd.get_dummies(lego, columns=['colection'], drop_first=True)\n",
        "\n",
        "lego['llavero'] = lego['llavero'].astype(int)\n",
        "lego['original'] = lego['original'].astype(int)\n",
        "lego['adult'] = lego['adult'].astype(int)\n",
        "\n",
        "X = lego.drop(columns=['price', 'price_usd'])  \n",
        "y = lego['price']\n",
        "\n",
        "\n",
        "X_train, X_test, y_train, y_test = train_test_split(X, y, test_size=0.3, random_state=42)\n",
        "\n",
        "X_train = X_train.fillna(X_train.mean())\n",
        "X_test = X_test.fillna(X_test.mean())\n",
        "\n",
        "\n",
        "model = RandomForestRegressor(n_estimators=100, random_state=42)\n",
        "model.fit(X_train, y_train)\n",
        "\n",
        "y_pred = model.predict(X_test)\n",
        "\n",
        "rmse = mean_squared_error(y_test, y_pred , squared=False)\n",
        "mse = mean_squared_error(y_test, y_pred)\n",
        "r2 = r2_score(y_test, y_pred)\n"
      ]
    },
    {
      "cell_type": "markdown",
      "metadata": {},
      "source": [
        "# Gradient Boosting Price Predictor (Preston)"
      ]
    },
    {
      "cell_type": "code",
      "execution_count": 6,
      "metadata": {},
      "outputs": [],
      "source": [
        "from catboost import CatBoostRegressor"
      ]
    },
    {
      "cell_type": "code",
      "execution_count": 7,
      "metadata": {},
      "outputs": [
        {
          "name": "stdout",
          "output_type": "stream",
          "text": [
            "0:\tlearn: 2368.6276605\ttest: 2293.3660173\tbest: 2293.3660173 (0)\ttotal: 151ms\tremaining: 12m 37s\n",
            "50:\tlearn: 2294.1364022\ttest: 2213.5496732\tbest: 2213.5496732 (50)\ttotal: 408ms\tremaining: 39.6s\n",
            "100:\tlearn: 2223.1960439\ttest: 2137.1925407\tbest: 2137.1925407 (100)\ttotal: 663ms\tremaining: 32.2s\n",
            "150:\tlearn: 2155.7399513\ttest: 2064.9792951\tbest: 2064.9792951 (150)\ttotal: 933ms\tremaining: 30s\n",
            "200:\tlearn: 2091.8395030\ttest: 1997.6052427\tbest: 1997.6052427 (200)\ttotal: 1.18s\tremaining: 28.2s\n",
            "250:\tlearn: 2029.7371178\ttest: 1931.5555025\tbest: 1931.5555025 (250)\ttotal: 1.43s\tremaining: 27.1s\n",
            "300:\tlearn: 1969.7826954\ttest: 1867.8314522\tbest: 1867.8314522 (300)\ttotal: 1.68s\tremaining: 26.2s\n",
            "350:\tlearn: 1912.6034907\ttest: 1807.1659556\tbest: 1807.1659556 (350)\ttotal: 1.93s\tremaining: 25.5s\n",
            "400:\tlearn: 1858.6983758\ttest: 1750.2696600\tbest: 1750.2696600 (400)\ttotal: 2.18s\tremaining: 25.1s\n",
            "450:\tlearn: 1806.3140702\ttest: 1695.1326392\tbest: 1695.1326392 (450)\ttotal: 2.44s\tremaining: 24.6s\n",
            "500:\tlearn: 1757.2989413\ttest: 1645.1034712\tbest: 1645.1034712 (500)\ttotal: 2.69s\tremaining: 24.2s\n",
            "550:\tlearn: 1710.1250531\ttest: 1596.1720533\tbest: 1596.1720533 (550)\ttotal: 2.94s\tremaining: 23.7s\n",
            "600:\tlearn: 1664.3060482\ttest: 1549.3445795\tbest: 1549.3445795 (600)\ttotal: 3.19s\tremaining: 23.3s\n",
            "650:\tlearn: 1620.9513818\ttest: 1505.0293496\tbest: 1505.0293496 (650)\ttotal: 3.44s\tremaining: 23s\n",
            "700:\tlearn: 1578.9139268\ttest: 1463.1183529\tbest: 1463.1183529 (700)\ttotal: 3.72s\tremaining: 22.8s\n",
            "750:\tlearn: 1538.3230180\ttest: 1421.6166325\tbest: 1421.6166325 (750)\ttotal: 3.93s\tremaining: 22.3s\n",
            "800:\tlearn: 1500.3496863\ttest: 1383.9517939\tbest: 1383.9517939 (800)\ttotal: 4.22s\tremaining: 22.1s\n",
            "850:\tlearn: 1463.4252941\ttest: 1348.1411473\tbest: 1348.1411473 (850)\ttotal: 4.49s\tremaining: 21.9s\n",
            "900:\tlearn: 1428.2306552\ttest: 1314.0185086\tbest: 1314.0185086 (900)\ttotal: 4.75s\tremaining: 21.6s\n",
            "950:\tlearn: 1394.7526672\ttest: 1282.6988044\tbest: 1282.6988044 (950)\ttotal: 5s\tremaining: 21.3s\n",
            "1000:\tlearn: 1363.2845393\ttest: 1253.3316533\tbest: 1253.3316533 (1000)\ttotal: 5.25s\tremaining: 21s\n",
            "1050:\tlearn: 1332.6653247\ttest: 1224.7742738\tbest: 1224.7742738 (1050)\ttotal: 5.52s\tremaining: 20.7s\n",
            "1100:\tlearn: 1302.8794634\ttest: 1197.6889721\tbest: 1197.6889721 (1100)\ttotal: 5.77s\tremaining: 20.4s\n",
            "1150:\tlearn: 1274.8732378\ttest: 1171.9980862\tbest: 1171.9980862 (1150)\ttotal: 6s\tremaining: 20.1s\n",
            "1200:\tlearn: 1247.2764657\ttest: 1146.7997721\tbest: 1146.7997721 (1200)\ttotal: 6.24s\tremaining: 19.7s\n",
            "1250:\tlearn: 1221.7405601\ttest: 1124.1045988\tbest: 1124.1045988 (1250)\ttotal: 6.51s\tremaining: 19.5s\n",
            "1300:\tlearn: 1196.7321481\ttest: 1102.3082211\tbest: 1102.3082211 (1300)\ttotal: 6.74s\tremaining: 19.2s\n",
            "1350:\tlearn: 1173.1636536\ttest: 1082.4225582\tbest: 1082.4225582 (1350)\ttotal: 7s\tremaining: 18.9s\n",
            "1400:\tlearn: 1150.5528698\ttest: 1064.3195765\tbest: 1064.3195765 (1400)\ttotal: 7.29s\tremaining: 18.7s\n",
            "1450:\tlearn: 1128.2230876\ttest: 1046.1827830\tbest: 1046.1827830 (1450)\ttotal: 7.54s\tremaining: 18.5s\n",
            "1500:\tlearn: 1106.7221945\ttest: 1029.4523699\tbest: 1029.4523699 (1500)\ttotal: 7.82s\tremaining: 18.2s\n",
            "1550:\tlearn: 1086.1012819\ttest: 1013.3908643\tbest: 1013.3908643 (1550)\ttotal: 8.1s\tremaining: 18s\n",
            "1600:\tlearn: 1066.7578638\ttest: 999.1769915\tbest: 999.1769915 (1600)\ttotal: 8.35s\tremaining: 17.7s\n",
            "1650:\tlearn: 1047.9305699\ttest: 985.3719986\tbest: 985.3719986 (1650)\ttotal: 8.62s\tremaining: 17.5s\n",
            "1700:\tlearn: 1029.7694542\ttest: 972.4123424\tbest: 972.4123424 (1700)\ttotal: 8.88s\tremaining: 17.2s\n",
            "1750:\tlearn: 1012.5421542\ttest: 960.4699187\tbest: 960.4699187 (1750)\ttotal: 9.16s\tremaining: 17s\n",
            "1800:\tlearn: 996.2386267\ttest: 950.0210995\tbest: 950.0210995 (1800)\ttotal: 9.43s\tremaining: 16.8s\n",
            "1850:\tlearn: 980.2465820\ttest: 939.9018817\tbest: 939.9018817 (1850)\ttotal: 9.71s\tremaining: 16.5s\n",
            "1900:\tlearn: 964.6387531\ttest: 930.4919092\tbest: 930.4919092 (1900)\ttotal: 9.97s\tremaining: 16.2s\n",
            "1950:\tlearn: 949.6808856\ttest: 921.0276982\tbest: 921.0276982 (1950)\ttotal: 10.2s\tremaining: 16s\n",
            "2000:\tlearn: 935.3152096\ttest: 912.2640532\tbest: 912.2640532 (2000)\ttotal: 10.5s\tremaining: 15.8s\n",
            "2050:\tlearn: 921.3623653\ttest: 904.4073439\tbest: 904.4073439 (2050)\ttotal: 10.8s\tremaining: 15.5s\n",
            "2100:\tlearn: 907.8697638\ttest: 897.2679958\tbest: 897.2679958 (2100)\ttotal: 11.1s\tremaining: 15.3s\n",
            "2150:\tlearn: 895.3121505\ttest: 890.4524522\tbest: 890.4524522 (2150)\ttotal: 11.3s\tremaining: 15s\n",
            "2200:\tlearn: 882.8960896\ttest: 884.2186077\tbest: 884.2186077 (2200)\ttotal: 11.6s\tremaining: 14.7s\n",
            "2250:\tlearn: 870.6761012\ttest: 878.1883705\tbest: 878.1883705 (2250)\ttotal: 11.9s\tremaining: 14.5s\n",
            "2300:\tlearn: 858.8268723\ttest: 872.5605619\tbest: 872.5605619 (2300)\ttotal: 12.1s\tremaining: 14.2s\n",
            "2350:\tlearn: 847.7685068\ttest: 867.8751067\tbest: 867.8751067 (2350)\ttotal: 12.4s\tremaining: 14s\n",
            "2400:\tlearn: 836.9190660\ttest: 863.1502038\tbest: 863.1502038 (2400)\ttotal: 12.7s\tremaining: 13.7s\n",
            "2450:\tlearn: 826.3962224\ttest: 859.0725007\tbest: 859.0725007 (2450)\ttotal: 13s\tremaining: 13.5s\n",
            "2500:\tlearn: 815.7855419\ttest: 854.7284045\tbest: 854.7284045 (2500)\ttotal: 13.2s\tremaining: 13.2s\n",
            "2550:\tlearn: 806.1256810\ttest: 851.3987500\tbest: 851.3987500 (2550)\ttotal: 13.5s\tremaining: 13s\n",
            "2600:\tlearn: 796.5992061\ttest: 848.1604502\tbest: 848.1604502 (2600)\ttotal: 13.8s\tremaining: 12.7s\n",
            "2650:\tlearn: 787.2200874\ttest: 844.8947593\tbest: 844.8947593 (2650)\ttotal: 14.1s\tremaining: 12.5s\n",
            "2700:\tlearn: 778.1351796\ttest: 841.9997408\tbest: 841.9997408 (2700)\ttotal: 14.4s\tremaining: 12.2s\n",
            "2750:\tlearn: 769.1933800\ttest: 839.1751000\tbest: 839.1751000 (2750)\ttotal: 14.7s\tremaining: 12s\n",
            "2800:\tlearn: 760.4266352\ttest: 836.4808361\tbest: 836.4808361 (2800)\ttotal: 14.9s\tremaining: 11.7s\n",
            "2850:\tlearn: 751.9620663\ttest: 834.2670475\tbest: 834.2670475 (2850)\ttotal: 15.2s\tremaining: 11.5s\n",
            "2900:\tlearn: 743.8823803\ttest: 832.2523232\tbest: 832.2523232 (2900)\ttotal: 15.5s\tremaining: 11.2s\n",
            "2950:\tlearn: 735.9409885\ttest: 829.9799429\tbest: 829.9799429 (2950)\ttotal: 15.8s\tremaining: 11s\n",
            "3000:\tlearn: 728.2503260\ttest: 828.1992718\tbest: 828.1992718 (3000)\ttotal: 16.1s\tremaining: 10.7s\n",
            "3050:\tlearn: 720.7023708\ttest: 826.3702313\tbest: 826.3702313 (3050)\ttotal: 16.4s\tremaining: 10.4s\n",
            "3100:\tlearn: 713.2734550\ttest: 824.8869496\tbest: 824.8869496 (3100)\ttotal: 16.7s\tremaining: 10.2s\n",
            "3150:\tlearn: 706.0814759\ttest: 823.2598869\tbest: 823.2598869 (3150)\ttotal: 16.9s\tremaining: 9.93s\n",
            "3200:\tlearn: 699.2491562\ttest: 822.1242216\tbest: 822.1242216 (3200)\ttotal: 17.2s\tremaining: 9.67s\n",
            "3250:\tlearn: 692.3524630\ttest: 820.8709133\tbest: 820.8709133 (3250)\ttotal: 17.5s\tremaining: 9.4s\n",
            "3300:\tlearn: 685.6619174\ttest: 819.7734687\tbest: 819.7734687 (3300)\ttotal: 17.8s\tremaining: 9.14s\n",
            "3350:\tlearn: 679.2274362\ttest: 818.7867064\tbest: 818.7867064 (3350)\ttotal: 18.1s\tremaining: 8.88s\n",
            "3400:\tlearn: 673.1908760\ttest: 817.9542686\tbest: 817.9542686 (3400)\ttotal: 18.3s\tremaining: 8.61s\n",
            "3450:\tlearn: 667.1424233\ttest: 817.2580814\tbest: 817.2111721 (3448)\ttotal: 18.6s\tremaining: 8.34s\n",
            "3500:\tlearn: 661.1371409\ttest: 816.5345655\tbest: 816.5284470 (3499)\ttotal: 18.9s\tremaining: 8.09s\n",
            "3550:\tlearn: 655.4204432\ttest: 816.1684112\tbest: 816.0930484 (3543)\ttotal: 19.2s\tremaining: 7.82s\n",
            "3600:\tlearn: 649.6558885\ttest: 815.7137929\tbest: 815.6894935 (3596)\ttotal: 19.4s\tremaining: 7.55s\n",
            "3650:\tlearn: 644.1329016\ttest: 815.1993668\tbest: 815.1659148 (3645)\ttotal: 19.7s\tremaining: 7.28s\n",
            "3700:\tlearn: 638.8607853\ttest: 814.7428913\tbest: 814.7428913 (3700)\ttotal: 20s\tremaining: 7.02s\n",
            "3750:\tlearn: 633.4967400\ttest: 814.4856882\tbest: 814.4856882 (3750)\ttotal: 20.3s\tremaining: 6.75s\n",
            "3800:\tlearn: 628.3102629\ttest: 814.2412385\tbest: 814.2117860 (3795)\ttotal: 20.6s\tremaining: 6.49s\n",
            "3850:\tlearn: 623.2807326\ttest: 814.1247101\tbest: 814.0409048 (3841)\ttotal: 20.9s\tremaining: 6.22s\n",
            "3900:\tlearn: 618.3598740\ttest: 813.8960227\tbest: 813.8954284 (3899)\ttotal: 21.1s\tremaining: 5.96s\n",
            "3950:\tlearn: 613.5284052\ttest: 813.7073288\tbest: 813.6921391 (3946)\ttotal: 21.4s\tremaining: 5.69s\n",
            "Stopped by overfitting detector  (50 iterations wait)\n",
            "\n",
            "bestTest = 813.6921391\n",
            "bestIteration = 3946\n",
            "\n",
            "Shrink model to first 3947 iterations.\n"
          ]
        },
        {
          "data": {
            "text/plain": [
              "<catboost.core.CatBoostRegressor at 0x2ba9769d280>"
            ]
          },
          "execution_count": 7,
          "metadata": {},
          "output_type": "execute_result"
        }
      ],
      "source": [
        "# will use same dataframe as the previous example\n",
        "cat_model = CatBoostRegressor(iterations=5000, learning_rate=0.001, depth=10, l2_leaf_reg=3, bagging_temperature=0.8, early_stopping_rounds=50)\n",
        "cat_model.fit(X_train, y_train, eval_set=(X_test, y_test), verbose=50)"
      ]
    },
    {
      "cell_type": "code",
      "execution_count": 8,
      "metadata": {},
      "outputs": [],
      "source": [
        "y_pred_grad = cat_model.predict(X_test)\n",
        "rmse_grad = mean_squared_error(y_test, y_pred_grad , squared=False)\n",
        "mse_grad = mean_squared_error(y_test, y_pred_grad )\n",
        "r2_grad = r2_score(y_test, y_pred_grad)\n"
      ]
    },
    {
      "cell_type": "markdown",
      "metadata": {},
      "source": [
        "# Model Comparison"
      ]
    },
    {
      "cell_type": "code",
      "execution_count": 12,
      "metadata": {},
      "outputs": [
        {
          "name": "stdout",
          "output_type": "stream",
          "text": [
            "Random Forest Regressor\n",
            "------------------------------------\n",
            "RMSE: 837.8383966685608\n",
            "MSE: 701973.1789321447\n",
            "R-squared: 0.8665953253669112\n",
            "\n",
            "Gradient Boosting Regressor - Cat\n",
            "------------------------------------\n",
            "RMSE: 813.69213905135\n",
            "MSE: 662094.8971539614\n",
            "R-squared: 0.8741738901400524\n"
          ]
        }
      ],
      "source": [
        "\n",
        "print(\"Random Forest Regressor\")\n",
        "print(\"------------------------------------\")\n",
        "print(\"RMSE:\", rmse)\n",
        "print(\"MSE:\", mse)\n",
        "print(\"R-squared:\", r2)\n",
        "print()\n",
        "print(\"Gradient Boosting Regressor - Cat\")\n",
        "print(\"------------------------------------\")\n",
        "print(\"RMSE:\", rmse_grad)\n",
        "print(\"MSE:\", mse_grad)\n",
        "print(\"R-squared:\", r2_grad)"
      ]
    }
  ],
  "metadata": {
    "colab": {
      "provenance": []
    },
    "kernelspec": {
      "display_name": "Python 3",
      "name": "python3"
    },
    "language_info": {
      "codemirror_mode": {
        "name": "ipython",
        "version": 3
      },
      "file_extension": ".py",
      "mimetype": "text/x-python",
      "name": "python",
      "nbconvert_exporter": "python",
      "pygments_lexer": "ipython3",
      "version": "3.12.2"
    }
  },
  "nbformat": 4,
  "nbformat_minor": 0
}
