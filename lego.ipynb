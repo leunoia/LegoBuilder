{
  "nbformat": 4,
  "nbformat_minor": 0,
  "metadata": {
    "colab": {
      "provenance": []
    },
    "kernelspec": {
      "name": "python3",
      "display_name": "Python 3"
    },
    "language_info": {
      "name": "python"
    }
  },
  "cells": [
    {
      "cell_type": "code",
      "source": [
        "import pandas as pd\n",
        "from sklearn.model_selection import train_test_split\n",
        "from sklearn.linear_model import LinearRegression\n",
        "from sklearn.metrics import mean_squared_error, r2_score\n",
        "from sklearn.preprocessing import StandardScaler\n",
        "from sklearn.ensemble import RandomForestRegressor\n",
        "from sklearn.svm import SVR\n",
        "\n",
        "lego = pd.read_csv('/content/lego_data_clean.csv')\n",
        "\n",
        "lego = lego.drop(columns=['toy_name'])\n",
        "\n",
        "lego['llavero'] = lego['llavero'].astype(int)\n",
        "lego['original'] = lego['original'].astype(int)\n",
        "lego['adult'] = lego['adult'].astype(int)\n",
        "\n",
        "lego = pd.get_dummies(lego, columns=['colection'], drop_first=True)\n",
        "\n",
        "X = lego.drop(columns=['price'])\n",
        "y = lego['price']\n",
        "\n",
        "X_train, X_test, y_train, y_test = train_test_split(X, y, test_size=0.3, random_state=42)\n",
        "\n",
        "X_train = X_train.fillna(X_train.mean())\n",
        "X_test = X_test.fillna(X_test.mean())\n",
        "\n",
        "# Random Forest Regressor was best performing regressor\n",
        "model = RandomForestRegressor(n_estimators=100, random_state=42)\n",
        "model.fit(X_train, y_train)\n",
        "\n",
        "y_pred = model.predict(X_test)\n",
        "\n",
        "mse = mean_squared_error(y_test, y_pred)\n",
        "r2 = r2_score(y_test, y_pred)\n",
        "\n",
        "print(\"Mean Squared Error:\", mse)\n",
        "print(\"R-squared:\", r2)\n"
      ],
      "metadata": {
        "colab": {
          "base_uri": "https://localhost:8080/"
        },
        "id": "i2V-KNTEkUKd",
        "outputId": "633f4eab-1b4c-4224-9584-94228ad5b04d"
      },
      "execution_count": 12,
      "outputs": [
        {
          "output_type": "stream",
          "name": "stdout",
          "text": [
            "Mean Squared Error: 701973.1789321447\n",
            "R-squared: 0.8665953253669112\n"
          ]
        }
      ]
    }
  ]
}